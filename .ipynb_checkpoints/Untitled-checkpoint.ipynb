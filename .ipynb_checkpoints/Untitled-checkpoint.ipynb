{
 "cells": [
  {
   "cell_type": "code",
   "execution_count": 1,
   "metadata": {},
   "outputs": [],
   "source": [
    "import torch\n",
    "import torchvision\n",
    "import torchvision.datasets as datasets\n",
    "import torch.nn as nn\n",
    "import torch.nn.functional as F\n",
    "import torch.optim as optim\n",
    "import numpy as np\n",
    "\n",
    "from matplotlib import pyplot as plt"
   ]
  },
  {
   "cell_type": "code",
   "execution_count": 2,
   "metadata": {},
   "outputs": [],
   "source": [
    "mnist_trainset = datasets.MNIST(root='./data', train=True, download=True, transform=torchvision.transforms.ToTensor())\n",
    "mnist_testset = datasets.MNIST(root='./data', train=False, download=True, transform=torchvision.transforms.ToTensor())"
   ]
  },
  {
   "cell_type": "code",
   "execution_count": 3,
   "metadata": {},
   "outputs": [],
   "source": [
    "trainLoader = torch.utils.data.DataLoader(mnist_trainset, batch_size=len(mnist_trainset))\n",
    "train_data = next(iter(trainLoader))"
   ]
  },
  {
   "cell_type": "code",
   "execution_count": 4,
   "metadata": {},
   "outputs": [
    {
     "name": "stdout",
     "output_type": "stream",
     "text": [
      "0 => 5923\n",
      "1 => 6742\n",
      "2 => 5958\n",
      "3 => 6131\n",
      "4 => 5842\n",
      "5 => 5421\n",
      "6 => 5918\n",
      "7 => 6265\n",
      "8 => 5851\n",
      "9 => 5949\n"
     ]
    }
   ],
   "source": [
    "x,y= train_data\n",
    "data_dict={}\n",
    "for i in range(x.shape[0]):\n",
    "    if y[i].item() not in data_dict.keys():\n",
    "        data_dict[y[i].item()]=[]\n",
    "    data_dict[y[i].item()].append(x[i])\n",
    "\n",
    "for k in data_dict.keys():\n",
    "    print(str(k)+' => '+str(len(data_dict[k])))"
   ]
  },
  {
   "cell_type": "code",
   "execution_count": 7,
   "metadata": {},
   "outputs": [
    {
     "data": {
      "image/png": "[encoded data removed]",
      "text/plain": [
       "<Figure size 432x288 with 1 Axes>"
      ]
     },
     "metadata": {},
     "output_type": "display_data"
    }
   ],
   "source": [
    "plt.imshow(data_dict[9][2][0], interpolation='nearest', cmap='gray')\n",
    "plt.show()"
   ]
  },
  {
   "cell_type": "code",
   "execution_count": 39,
   "metadata": {},
   "outputs": [],
   "source": [
    "def getData(n, digits = [0,1,2,3,4,5,6,7,8,9]):\n",
    "    img1s = np.zeros((n, 1, 28, 28))\n",
    "    img2s = np.zeros((n, 1, 28, 28))\n",
    "    target = np.zeros((n))\n",
    "    \n",
    "    for i in range(n):\n",
    "        p = np.random.rand()\n",
    "        d1, d2 = np.random.choice(digits, 2, replace=False)\n",
    "        img1s[i] = data_dict[d1][ int(np.random.rand()*len(data_dict[d1])) ]\n",
    "        \n",
    "        if p > 0.5: # diff\n",
    "            img2s[i] = data_dict[d2][ int(np.random.rand()*len(data_dict[d2])) ]\n",
    "            target[i] = 0\n",
    "        else:       # same\n",
    "            img2s[i] = data_dict[d1][ int(np.random.rand()*len(data_dict[d1])) ]\n",
    "            target[i] = 1     \n",
    "    \n",
    "    return torch.from_numpy(img1s).float(), torch.from_numpy(img2s).float(), torch.from_numpy(target).float()"
   ]
  },
  {
   "cell_type": "code",
   "execution_count": 21,
   "metadata": {},
   "outputs": [],
   "source": [
    "class SiameseNet(nn.Module):\n",
    "\n",
    "    def __init__(self):\n",
    "        super(SiameseNet, self).__init__()\n",
    "        self.conv1 = nn.Conv2d(1, 6, 5)\n",
    "        self.conv2 = nn.Conv2d(6, 16, 5)\n",
    "        self.fc1 = nn.Linear(16 * 4 * 4, 128)\n",
    "        self.fc2 = nn.Linear(128, 32)\n",
    "\n",
    "    def calcRep(self, x):\n",
    "        x = F.max_pool2d(F.relu(self.conv1(x)), (2, 2))\n",
    "        x = F.max_pool2d(F.relu(self.conv2(x)), 2)\n",
    "        x = x.view(-1, self.num_flat_features(x))\n",
    "        x = F.relu(self.fc1(x))\n",
    "        x = self.fc2(x)\n",
    "        return x\n",
    "    \n",
    "    def forward(self, x1, x2):\n",
    "        dist = F.cosine_similarity(SiameseNet.calcRep(self, x1), SiameseNet.calcRep(self, x2))  # output 1 for similar image\n",
    "        return dist\n",
    "\n",
    "    def num_flat_features(self, x):\n",
    "        size = x.size()[1:]  # all dimensions except the batch dimension\n",
    "        num_features = 1\n",
    "        for s in size:\n",
    "            num_features *= s\n",
    "        return num_features"
   ]
  },
  {
   "cell_type": "code",
   "execution_count": 87,
   "metadata": {},
   "outputs": [],
   "source": [
    "def train(model,steps = 1000 ,lr = 0.1, batch_sz = 32, digits = [0,1,2,3,4,5,6,7,8,9]):\n",
    "    model.train()\n",
    "    \n",
    "    for i in range(steps):\n",
    "    \n",
    "        optimizer = optim.Adam(model.parameters(), lr=lr)\n",
    "        \n",
    "        optimizer.zero_grad()\n",
    "        img1s, img2s, target = getData(batch_sz, digits)\n",
    "        output = model(img1s, img2s)\n",
    "        \n",
    "        loss = ((output - target)**2).mean()\n",
    "        \n",
    "        loss.backward()\n",
    "        optimizer.step()\n",
    "        \n",
    "        if i % 100 == 0:\n",
    "            print('step: '+str(i),end='\\t')\n",
    "#             print(loss.item())\n",
    "            test(model, sz = 1000, digits = [0,1,2,3,4,5,6,7,8,9])\n",
    "            "
   ]
  },
  {
   "cell_type": "code",
   "execution_count": 83,
   "metadata": {},
   "outputs": [],
   "source": [
    "def test(model, sz = 1000, digits = [0,1,2,3,4,5,6,7,8,9]):\n",
    "    img1s, img2s, target = getData(sz, digits)\n",
    "    output = model(img1s, img2s)\n",
    "    loss = ((output - target)**2).mean()\n",
    "    correct = (output.round()).eq(target.view_as(output)).long().sum().item()    # threshold = .5\n",
    "    total = target.view(-1).size(0)\n",
    "    print('mse = '+str(loss.item())[:10]+'\\t accuracy = '+str(correct)+'/'+str(total)+' = '+str(100.0*correct/total)[:5])"
   ]
  },
  {
   "cell_type": "code",
   "execution_count": 84,
   "metadata": {},
   "outputs": [
    {
     "name": "stdout",
     "output_type": "stream",
     "text": [
      "SiameseNet(\n",
      "  (conv1): Conv2d(1, 6, kernel_size=(5, 5), stride=(1, 1))\n",
      "  (conv2): Conv2d(6, 16, kernel_size=(5, 5), stride=(1, 1))\n",
      "  (fc1): Linear(in_features=256, out_features=128, bias=True)\n",
      "  (fc2): Linear(in_features=128, out_features=32, bias=True)\n",
      ")\n"
     ]
    }
   ],
   "source": [
    "print(SiameseNet())"
   ]
  },
  {
   "cell_type": "code",
   "execution_count": 86,
   "metadata": {},
   "outputs": [
    {
     "name": "stdout",
     "output_type": "stream",
     "text": [
      "mse = 0.49480035\t accuracy = 505/1000 = 50.5\n",
      "mse = 0.15783534\t accuracy = 797/1000 = 79.7\n",
      "mse = 0.12837280\t accuracy = 833/1000 = 83.3\n",
      "mse = 0.13947303\t accuracy = 828/1000 = 82.8\n",
      "mse = 0.15007025\t accuracy = 816/1000 = 81.6\n",
      "mse = 0.13669009\t accuracy = 819/1000 = 81.9\n",
      "mse = 0.15500690\t accuracy = 806/1000 = 80.6\n",
      "mse = 0.15043820\t accuracy = 807/1000 = 80.7\n",
      "mse = 0.15484409\t accuracy = 811/1000 = 81.1\n",
      "mse = 0.14747439\t accuracy = 821/1000 = 82.1\n",
      "mse = 0.14308273\t accuracy = 4124/5000 = 82.48\n",
      "mse = 0.22462043\t accuracy = 3592/5000 = 71.84\n"
     ]
    }
   ],
   "source": [
    "model = SiameseNet()\n",
    "train(model,steps = 1000 ,lr = 0.1, batch_sz = 256, digits = [0,1,5,8,9])\n",
    "\n",
    "test(model, sz = 5000, digits = [0,1,2,3,4,5,6,7,8,9])\n",
    "test(model, sz = 5000, digits = [2,3,4,6,7])"
   ]
  },
  {
   "cell_type": "code",
   "execution_count": 60,
   "metadata": {},
   "outputs": [],
   "source": []
  },
  {
   "cell_type": "code",
   "execution_count": null,
   "metadata": {},
   "outputs": [],
   "source": []
  }
 ],
 "metadata": {
  "kernelspec": {
   "display_name": "Python 3",
   "language": "python",
   "name": "python3"
  },
  "language_info": {
   "codemirror_mode": {
    "name": "ipython",
    "version": 3
   },
   "file_extension": ".py",
   "mimetype": "text/x-python",
   "name": "python",
   "nbconvert_exporter": "python",
   "pygments_lexer": "ipython3",
   "version": "3.5.2"
  }
 },
 "nbformat": 4,
 "nbformat_minor": 2
}
